{
 "cells": [
  {
   "cell_type": "code",
   "execution_count": 1,
   "id": "5b1e1311",
   "metadata": {},
   "outputs": [],
   "source": [
    "import time\n",
    "import requests\n",
    "from bs4 import BeautifulSoup\n",
    "import pandas as pd"
   ]
  },
  {
   "cell_type": "code",
   "execution_count": 2,
   "id": "4397d494",
   "metadata": {},
   "outputs": [],
   "source": [
    "url = \"https://www.castleconnolly.com/specialty/psychiatry\""
   ]
  },
  {
   "cell_type": "code",
   "execution_count": 3,
   "id": "0e29fe92",
   "metadata": {},
   "outputs": [],
   "source": [
    "response = requests.get(url)"
   ]
  },
  {
   "cell_type": "code",
   "execution_count": 4,
   "id": "5933cca8",
   "metadata": {},
   "outputs": [],
   "source": [
    "html = response.text"
   ]
  },
  {
   "cell_type": "code",
   "execution_count": 5,
   "id": "32726f11",
   "metadata": {},
   "outputs": [],
   "source": [
    "soup = BeautifulSoup(html, \"html.parser\")"
   ]
  },
  {
   "cell_type": "code",
   "execution_count": 6,
   "id": "0e749c38",
   "metadata": {},
   "outputs": [],
   "source": [
    "li = soup.find_all(\"div\",{\"class\":\"PromoSearchResult-title\"})"
   ]
  },
  {
   "cell_type": "code",
   "execution_count": 7,
   "id": "8252de9a",
   "metadata": {},
   "outputs": [],
   "source": [
    "links=[]\n",
    "for a in li:\n",
    "    link=a.find(\"a\")[\"href\"]\n",
    "    links.append(link)"
   ]
  },
  {
   "cell_type": "code",
   "execution_count": 8,
   "id": "87f8ee59",
   "metadata": {},
   "outputs": [],
   "source": [
    "def get_links():\n",
    "    i=2\n",
    "    for i in range(2,6):\n",
    "        url = \"https://www.castleconnolly.com/specialty/psychiatry?p=\"+str(i)\n",
    "        response = requests.get(url)\n",
    "        html = response.text\n",
    "        soup = BeautifulSoup(html, \"html.parser\")\n",
    "        lis = soup.find_all(\"div\",{\"class\":\"PromoSearchResult-title\"})\n",
    "        for a in lis:\n",
    "            link=a.find(\"a\")[\"href\"]\n",
    "            links.append(link)"
   ]
  },
  {
   "cell_type": "code",
   "execution_count": 9,
   "id": "05eb5f5a",
   "metadata": {},
   "outputs": [],
   "source": [
    "get_links()"
   ]
  },
  {
   "cell_type": "code",
   "execution_count": 10,
   "id": "3620c51b",
   "metadata": {},
   "outputs": [
    {
     "data": {
      "text/plain": [
       "125"
      ]
     },
     "execution_count": 10,
     "metadata": {},
     "output_type": "execute_result"
    }
   ],
   "source": [
    "len(links)"
   ]
  },
  {
   "cell_type": "code",
   "execution_count": 14,
   "id": "95f3cb60",
   "metadata": {},
   "outputs": [],
   "source": [
    "psy_df = pd.DataFrame(columns=[\"Full Name\", \"Business Address\", \"Address Title\", \"Address Tail\", \"Phone Number\"])"
   ]
  },
  {
   "cell_type": "code",
   "execution_count": 27,
   "id": "cfccd5c1",
   "metadata": {},
   "outputs": [
    {
     "name": "stdout",
     "output_type": "stream",
     "text": [
      "done\n"
     ]
    }
   ],
   "source": [
    "for link in links:\n",
    "    response=requests.get(link)\n",
    "    html = response.text\n",
    "    soup_doc = BeautifulSoup(html,\"html.parser\")\n",
    "    full_name = soup_doc.find(\"h1\").text.strip()\n",
    "    add_title = soup_doc.find(\"div\",{\"class\":\"Address-title\"}).text\n",
    "    add_tail = soup_doc.find(\"div\",{\"class\":\"Address-address\"}).text\n",
    "    full_add = add_title + \", \" + add_tail\n",
    "    phone = soup_doc.find(\"div\",{\"class\":\"PromoDoctorLead-phone\"}).text.strip()\n",
    "\n",
    "    psy_row = {\"Full Name\":[full_name],\"Business Address\":[full_add],\"Address Title\":[add_title],\"Address Tail\":[add_tail],\"Phone Number\":[phone]}\n",
    "    psy_df = pd.concat([psy_df,pd.DataFrame(psy_row)], ignore_index=True)\n",
    "print(\"done\")"
   ]
  },
  {
   "cell_type": "code",
   "execution_count": 28,
   "id": "b39d952e",
   "metadata": {},
   "outputs": [
    {
     "data": {
      "text/html": [
       "<div>\n",
       "<style scoped>\n",
       "    .dataframe tbody tr th:only-of-type {\n",
       "        vertical-align: middle;\n",
       "    }\n",
       "\n",
       "    .dataframe tbody tr th {\n",
       "        vertical-align: top;\n",
       "    }\n",
       "\n",
       "    .dataframe thead th {\n",
       "        text-align: right;\n",
       "    }\n",
       "</style>\n",
       "<table border=\"1\" class=\"dataframe\">\n",
       "  <thead>\n",
       "    <tr style=\"text-align: right;\">\n",
       "      <th></th>\n",
       "      <th>Full Name</th>\n",
       "      <th>Business Address</th>\n",
       "      <th>Address Title</th>\n",
       "      <th>Address Tail</th>\n",
       "      <th>Phone Number</th>\n",
       "    </tr>\n",
       "  </thead>\n",
       "  <tbody>\n",
       "    <tr>\n",
       "      <th>0</th>\n",
       "      <td>Dr. Eve Caligor, MD</td>\n",
       "      <td>122 E 42nd St, Ste 3200, New York, NY 10168</td>\n",
       "      <td>122 E 42nd St, Ste 3200</td>\n",
       "      <td>New York, NY 10168</td>\n",
       "      <td>(212) 996-5285</td>\n",
       "    </tr>\n",
       "    <tr>\n",
       "      <th>1</th>\n",
       "      <td>Dr. Konstantin Nikiforov, MD</td>\n",
       "      <td>Galynker Family Center for Bipolar Disorder, 2...</td>\n",
       "      <td>Galynker Family Center for Bipolar Disorder</td>\n",
       "      <td>20 East 46th Street, Suite 1200New York, NY 10017</td>\n",
       "      <td>(646) 850-2290 or\\n                    \\n     ...</td>\n",
       "    </tr>\n",
       "    <tr>\n",
       "      <th>2</th>\n",
       "      <td>Dr. Jonathan D. Brodie, MD</td>\n",
       "      <td>155 E 38th St, Ste 3L, New York, NY 10016</td>\n",
       "      <td>155 E 38th St, Ste 3L</td>\n",
       "      <td>New York, NY 10016</td>\n",
       "      <td>(212) 986-6693</td>\n",
       "    </tr>\n",
       "    <tr>\n",
       "      <th>3</th>\n",
       "      <td>Dr. William S. Breitbart, MD</td>\n",
       "      <td>Memorial Sloan Kettering Cancer Center, Depart...</td>\n",
       "      <td>Memorial Sloan Kettering Cancer Center</td>\n",
       "      <td>Department of Psychiatry633 3rd Avenue New Yor...</td>\n",
       "      <td>(332) 209-5653</td>\n",
       "    </tr>\n",
       "    <tr>\n",
       "      <th>4</th>\n",
       "      <td>Dr. Philip Bialer, MD</td>\n",
       "      <td>MSKCC Psychiatric Counseling Center, 641 Lexin...</td>\n",
       "      <td>MSKCC Psychiatric Counseling Center</td>\n",
       "      <td>641 Lexington Avenue, Floor 7New York, NY 10022</td>\n",
       "      <td>(332) 209-5652</td>\n",
       "    </tr>\n",
       "    <tr>\n",
       "      <th>...</th>\n",
       "      <td>...</td>\n",
       "      <td>...</td>\n",
       "      <td>...</td>\n",
       "      <td>...</td>\n",
       "      <td>...</td>\n",
       "    </tr>\n",
       "    <tr>\n",
       "      <th>120</th>\n",
       "      <td>Dr. Yolonda Pickett, MD</td>\n",
       "      <td>Hackensack University Medical Center, 30 Prosp...</td>\n",
       "      <td>Hackensack University Medical Center</td>\n",
       "      <td>30 Prospect Avenue, Suite 6706Hackensack, NJ 0...</td>\n",
       "      <td>(551) 996-4785</td>\n",
       "    </tr>\n",
       "    <tr>\n",
       "      <th>121</th>\n",
       "      <td>Dr. Harvey R. Chertoff, MD</td>\n",
       "      <td>205 Engle Street, Englewood, NJ 07631-2409</td>\n",
       "      <td>205 Engle Street</td>\n",
       "      <td>Englewood, NJ 07631-2409</td>\n",
       "      <td>(201) 567-4970</td>\n",
       "    </tr>\n",
       "    <tr>\n",
       "      <th>122</th>\n",
       "      <td>Dr. Barry D. Holzer, MD</td>\n",
       "      <td>2350 Ocean Avenue, Suite 2-J, Brooklyn, NY 11229</td>\n",
       "      <td>2350 Ocean Avenue, Suite 2-J</td>\n",
       "      <td>Brooklyn, NY 11229</td>\n",
       "      <td>(718) 743-7600</td>\n",
       "    </tr>\n",
       "    <tr>\n",
       "      <th>123</th>\n",
       "      <td>Dr. Tomer T. Levin, MD</td>\n",
       "      <td>49 Cuttermill Road, Great Neck, NY 11021</td>\n",
       "      <td>49 Cuttermill Road</td>\n",
       "      <td>Great Neck, NY 11021</td>\n",
       "      <td>(646) 830-0131</td>\n",
       "    </tr>\n",
       "    <tr>\n",
       "      <th>124</th>\n",
       "      <td>Dr. Adarsh K. Gupta, MD</td>\n",
       "      <td>Great Neck Medical Psychiatry, Sleep, TMS, and...</td>\n",
       "      <td>Great Neck Medical Psychiatry</td>\n",
       "      <td>Sleep, TMS, and Mind-Body Wellness560 Northern...</td>\n",
       "      <td>(516) 684-9535</td>\n",
       "    </tr>\n",
       "  </tbody>\n",
       "</table>\n",
       "<p>125 rows × 5 columns</p>\n",
       "</div>"
      ],
      "text/plain": [
       "                        Full Name  \\\n",
       "0             Dr. Eve Caligor, MD   \n",
       "1    Dr. Konstantin Nikiforov, MD   \n",
       "2      Dr. Jonathan D. Brodie, MD   \n",
       "3    Dr. William S. Breitbart, MD   \n",
       "4           Dr. Philip Bialer, MD   \n",
       "..                            ...   \n",
       "120       Dr. Yolonda Pickett, MD   \n",
       "121    Dr. Harvey R. Chertoff, MD   \n",
       "122       Dr. Barry D. Holzer, MD   \n",
       "123        Dr. Tomer T. Levin, MD   \n",
       "124       Dr. Adarsh K. Gupta, MD   \n",
       "\n",
       "                                      Business Address  \\\n",
       "0          122 E 42nd St, Ste 3200, New York, NY 10168   \n",
       "1    Galynker Family Center for Bipolar Disorder, 2...   \n",
       "2            155 E 38th St, Ste 3L, New York, NY 10016   \n",
       "3    Memorial Sloan Kettering Cancer Center, Depart...   \n",
       "4    MSKCC Psychiatric Counseling Center, 641 Lexin...   \n",
       "..                                                 ...   \n",
       "120  Hackensack University Medical Center, 30 Prosp...   \n",
       "121         205 Engle Street, Englewood, NJ 07631-2409   \n",
       "122   2350 Ocean Avenue, Suite 2-J, Brooklyn, NY 11229   \n",
       "123           49 Cuttermill Road, Great Neck, NY 11021   \n",
       "124  Great Neck Medical Psychiatry, Sleep, TMS, and...   \n",
       "\n",
       "                                   Address Title  \\\n",
       "0                        122 E 42nd St, Ste 3200   \n",
       "1    Galynker Family Center for Bipolar Disorder   \n",
       "2                          155 E 38th St, Ste 3L   \n",
       "3         Memorial Sloan Kettering Cancer Center   \n",
       "4            MSKCC Psychiatric Counseling Center   \n",
       "..                                           ...   \n",
       "120         Hackensack University Medical Center   \n",
       "121                             205 Engle Street   \n",
       "122                 2350 Ocean Avenue, Suite 2-J   \n",
       "123                           49 Cuttermill Road   \n",
       "124                Great Neck Medical Psychiatry   \n",
       "\n",
       "                                          Address Tail  \\\n",
       "0                                   New York, NY 10168   \n",
       "1    20 East 46th Street, Suite 1200New York, NY 10017   \n",
       "2                                   New York, NY 10016   \n",
       "3    Department of Psychiatry633 3rd Avenue New Yor...   \n",
       "4      641 Lexington Avenue, Floor 7New York, NY 10022   \n",
       "..                                                 ...   \n",
       "120  30 Prospect Avenue, Suite 6706Hackensack, NJ 0...   \n",
       "121                           Englewood, NJ 07631-2409   \n",
       "122                                 Brooklyn, NY 11229   \n",
       "123                               Great Neck, NY 11021   \n",
       "124  Sleep, TMS, and Mind-Body Wellness560 Northern...   \n",
       "\n",
       "                                          Phone Number  \n",
       "0                                       (212) 996-5285  \n",
       "1    (646) 850-2290 or\\n                    \\n     ...  \n",
       "2                                       (212) 986-6693  \n",
       "3                                       (332) 209-5653  \n",
       "4                                       (332) 209-5652  \n",
       "..                                                 ...  \n",
       "120                                     (551) 996-4785  \n",
       "121                                     (201) 567-4970  \n",
       "122                                     (718) 743-7600  \n",
       "123                                     (646) 830-0131  \n",
       "124                                     (516) 684-9535  \n",
       "\n",
       "[125 rows x 5 columns]"
      ]
     },
     "execution_count": 28,
     "metadata": {},
     "output_type": "execute_result"
    }
   ],
   "source": [
    "psy_df"
   ]
  },
  {
   "cell_type": "code",
   "execution_count": 29,
   "id": "445abf84",
   "metadata": {},
   "outputs": [],
   "source": [
    "psy_df.to_excel(\"psychiatrists_data.xlsx\", index=False)"
   ]
  },
  {
   "cell_type": "code",
   "execution_count": null,
   "id": "7db9b538",
   "metadata": {},
   "outputs": [],
   "source": []
  }
 ],
 "metadata": {
  "kernelspec": {
   "display_name": "Python 3 (ipykernel)",
   "language": "python",
   "name": "python3"
  },
  "language_info": {
   "codemirror_mode": {
    "name": "ipython",
    "version": 3
   },
   "file_extension": ".py",
   "mimetype": "text/x-python",
   "name": "python",
   "nbconvert_exporter": "python",
   "pygments_lexer": "ipython3",
   "version": "3.10.9"
  }
 },
 "nbformat": 4,
 "nbformat_minor": 5
}
